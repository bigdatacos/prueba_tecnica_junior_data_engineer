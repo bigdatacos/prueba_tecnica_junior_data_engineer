{
 "cells": [
  {
   "cell_type": "markdown",
   "metadata": {},
   "source": [
    "# PRUEBA TECNICA **JUNIOR DATA ENGINEER** MONTECHELO 🤓🤓\n",
    "\n",
    "[@danixcviii](https://github.com/Danixcviii)\n",
    "---\n",
    "\n",
    "Aviso Importante para los(as) Aspirantes \\\n",
    "Este cuestionario práctico consta de preguntas diseñadas para evaluar diferentes áreas de conocimiento relevantes para el puesto al que estás aplicando. \\\n",
    "Te recomendamos que te enfoques en aquellas preguntas en las que consideres que tienes un conocimiento sólido y puedas demostrar tus habilidades. \\\n",
    "Es importante tener en cuenta lo siguiente:\n",
    "1.\tIntegridad y Honestidad: \\\n",
    "Este cuestionario es una herramienta para evaluar tus competencias reales. Cualquier intento de fraude o uso indebido de herramientas externas para responder las preguntas resultará en la anulación de la prueba.\n",
    "2.\tVerificación de Respuestas: \\\n",
    "Se llevará a cabo una validación exhaustiva de las respuestas proporcionadas para detectar posibles indicios de plagio, fraude, o uso de inteligencia artificial en el desarrollo del cuestionario. Esto incluye, pero no se limita a, comparaciones con respuestas generadas por herramientas automatizadas o el uso de terceros para la resolución de las preguntas.\n",
    "3.\tConsecuencias del Fraude: \\\n",
    "Si se detecta que has hecho trampa o utilizados métodos no autorizados para completar esta prueba, serás excluido del proceso de selección de manera inmediata.\n",
    "4.\tSustentación: \\\n",
    "Se agendará una sesión en la que el aspirante tendrá que sustentar las repuestas que el líder técnico del área considere y proponer nuevos ejercicios si lo ve necesario."
   ]
  },
  {
   "cell_type": "code",
   "execution_count": null,
   "metadata": {},
   "outputs": [],
   "source": [
    "%pip install sqlalchemy\n",
    "%pip install pandas\n",
    "%pip install ipython-sql\n",
    "%pip install ipykernel"
   ]
  },
  {
   "cell_type": "markdown",
   "metadata": {},
   "source": [
    "# Ingeniería de Datos\n",
    "---"
   ]
  },
  {
   "cell_type": "markdown",
   "metadata": {},
   "source": [
    "### 1. ¿Qué es la ingeniería de datos y cuál es su importancia en la ciencia de datos?"
   ]
  },
  {
   "cell_type": "markdown",
   "metadata": {},
   "source": [
    "Respuesta: "
   ]
  },
  {
   "cell_type": "markdown",
   "metadata": {},
   "source": [
    "### 2. ¿Cuál es la diferencia entre una base de datos relacional y una base de datos NoSQL?"
   ]
  },
  {
   "cell_type": "markdown",
   "metadata": {},
   "source": [
    "Respuesta: "
   ]
  },
  {
   "cell_type": "markdown",
   "metadata": {},
   "source": [
    "### 3. ¿Qué es un Datapipeline?"
   ]
  },
  {
   "cell_type": "markdown",
   "metadata": {},
   "source": [
    "Respuesta: "
   ]
  },
  {
   "cell_type": "markdown",
   "metadata": {},
   "source": [
    "### 4. ¿Qué es un Data Warehouse y en qué se diferencia de un Data Lake?"
   ]
  },
  {
   "cell_type": "markdown",
   "metadata": {},
   "source": [
    "Respuesta: "
   ]
  },
  {
   "cell_type": "markdown",
   "metadata": {},
   "source": [
    "### 5. ¿Qué es la normalización de bases de datos y por qué es importante?"
   ]
  },
  {
   "cell_type": "markdown",
   "metadata": {},
   "source": [
    "Respuesta: "
   ]
  },
  {
   "cell_type": "markdown",
   "metadata": {},
   "source": [
    "### 6. ¿Para que sirve la indexación en las bases de datos relacionales?"
   ]
  },
  {
   "cell_type": "markdown",
   "metadata": {},
   "source": [
    "Respuesta:"
   ]
  },
  {
   "cell_type": "markdown",
   "metadata": {},
   "source": [
    "### 7. ¿Qué herramientas y tecnologías conoces que se usan comúnmente en la ingeniería de datos?"
   ]
  },
  {
   "cell_type": "markdown",
   "metadata": {},
   "source": [
    "Respuesta:"
   ]
  },
  {
   "cell_type": "markdown",
   "metadata": {},
   "source": [
    "### 8. ¿Qué es una PRIMARY KEY y una FOREIGN KEY?"
   ]
  },
  {
   "cell_type": "markdown",
   "metadata": {},
   "source": [
    "Respuesta: "
   ]
  },
  {
   "cell_type": "markdown",
   "metadata": {},
   "source": [
    "# Python\n",
    "---"
   ]
  },
  {
   "cell_type": "markdown",
   "metadata": {},
   "source": [
    "### 1. ¿Cuál es la diferencia entre una lista y una tupla en Python?"
   ]
  },
  {
   "cell_type": "markdown",
   "metadata": {},
   "source": [
    "Respuesta: "
   ]
  },
  {
   "cell_type": "markdown",
   "metadata": {},
   "source": [
    "### 2. ¿Qué es un diccionario en Python y cómo se diferencia de una lista?"
   ]
  },
  {
   "cell_type": "markdown",
   "metadata": {},
   "source": [
    "Respuesta: "
   ]
  },
  {
   "cell_type": "markdown",
   "metadata": {},
   "source": [
    "### 3. ¿Qué es una función en Python y cómo se define?\n",
    "De un ejemplo."
   ]
  },
  {
   "cell_type": "markdown",
   "metadata": {},
   "source": [
    "Respuesta:"
   ]
  },
  {
   "cell_type": "code",
   "execution_count": 6,
   "metadata": {},
   "outputs": [],
   "source": [
    "#no borres la linea %reset -f por favor\n",
    "%reset -f \n",
    "## código en python"
   ]
  },
  {
   "cell_type": "markdown",
   "metadata": {},
   "source": [
    "### 4. Escribe una función llamada es_par que tome un número entero como argumento y devuelva True si el número es par, y False si es impar."
   ]
  },
  {
   "cell_type": "code",
   "execution_count": null,
   "metadata": {},
   "outputs": [],
   "source": [
    "#no borres la linea %reset -f por favor\n",
    "%reset -f\n",
    "## código de es_par"
   ]
  },
  {
   "cell_type": "markdown",
   "metadata": {},
   "source": [
    "### 5. Dado el siguiente diccionario: \n",
    "\n",
    "```python\n",
    "personas = {'Juan': 28, 'Ana': 22, 'Luis': 32}\n",
    "```\n",
    "\n",
    "Escribe una línea de código para obtener solo los nombres de persona (keys) como una lista."
   ]
  },
  {
   "cell_type": "code",
   "execution_count": 7,
   "metadata": {},
   "outputs": [],
   "source": [
    "#no borres la linea %reset -f por favor\n",
    "%reset -f\n",
    "## código claves"
   ]
  },
  {
   "cell_type": "markdown",
   "metadata": {},
   "source": [
    "### 6. Escribe un código que encuentre el número más grande en una lista sin usar la función max()."
   ]
  },
  {
   "cell_type": "code",
   "execution_count": null,
   "metadata": {},
   "outputs": [],
   "source": [
    "#no borres la linea %reset -f por favor\n",
    "%reset -f\n",
    "## código maximo de lista"
   ]
  },
  {
   "cell_type": "markdown",
   "metadata": {},
   "source": [
    "### 7. Dada la siguiente lista: \n",
    "\n",
    "```python \n",
    "nombres = ['Ana', 'Juan', 'Luis', 'Ana', 'Pedro']\n",
    "```\n",
    "Escribe un código para eliminar los duplicados y conservar el orden original."
   ]
  },
  {
   "cell_type": "code",
   "execution_count": null,
   "metadata": {},
   "outputs": [],
   "source": [
    "#no borres la linea %reset -f por favor\n",
    "%reset -f\n",
    "## código drop duplicados"
   ]
  },
  {
   "cell_type": "markdown",
   "metadata": {},
   "source": [
    "### 8. Escribe una función llamada cuenta_vocales que reciba una cadena y devuelva el número de vocales que contiene."
   ]
  },
  {
   "cell_type": "code",
   "execution_count": null,
   "metadata": {},
   "outputs": [],
   "source": [
    "#no borres la linea %reset -f por favor\n",
    "%reset -f\n",
    "## código cuenta_vocales"
   ]
  },
  {
   "cell_type": "markdown",
   "metadata": {},
   "source": [
    "### 9. Escribe un código que use un bucle \"for\" para imprimir los números del 1 al 20, sin los numeros 5, 11 y 17."
   ]
  },
  {
   "cell_type": "code",
   "execution_count": null,
   "metadata": {},
   "outputs": [],
   "source": [
    "#no borres la linea %reset -f por favor\n",
    "%reset -f\n",
    "## código bucle números"
   ]
  },
  {
   "cell_type": "markdown",
   "metadata": {},
   "source": [
    "### 10. Define una clase Coche con los atributos marca y modelo y un método detalles que imprima estos atributos. Crea un objeto de esta clase e invoca el método detalles."
   ]
  },
  {
   "cell_type": "code",
   "execution_count": 32,
   "metadata": {},
   "outputs": [],
   "source": [
    "#no borres la linea %reset -f por favor\n",
    "%reset -f\n",
    "## clase Coche\n"
   ]
  },
  {
   "cell_type": "markdown",
   "metadata": {},
   "source": [
    "### **Para las preguntas de la 11 a la 16, responder a partir del código suministrado en el siguiente bloque, usando Pandas**"
   ]
  },
  {
   "cell_type": "code",
   "execution_count": null,
   "metadata": {},
   "outputs": [],
   "source": [
    "#no borres la linea %reset -f por favor\n",
    "%reset -f\n",
    "import pandas as pd\n",
    "import numpy as np\n",
    "\n",
    "np.random.seed(42)\n",
    "\n",
    "n_rows = 100\n",
    "agents = ['Agente A', 'Agente B', 'Agente C', 'Agente D', 'Agente E']\n",
    "call_types = ['inbound', 'outbound']\n",
    "call_results = ['Resuelta', 'Escalada', 'No Resuelta', 'Abandonada']\n",
    "dates = pd.date_range(start='2024-09-01', periods=n_rows, freq='h')\n",
    "\n",
    "\n",
    "data = {\n",
    "    'FechaHora': np.random.choice(dates, n_rows),\n",
    "    'Agente': np.random.choice(agents, n_rows),\n",
    "    'TipoGestion': np.random.choice(call_types, n_rows),\n",
    "    'Duracion': np.random.randint(1, 60, n_rows),  # Duración de llamadas en minutos\n",
    "    'Resultado': np.random.choice(call_results, n_rows),\n",
    "    'SatisfaccionCliente': np.random.randint(1, 6, n_rows)  # Escala de satisfacción del 1 al 5\n",
    "}\n",
    "\n",
    "df = pd.DataFrame(data)\n",
    "\n",
    "print(df.head())"
   ]
  },
  {
   "cell_type": "markdown",
   "metadata": {},
   "source": [
    "### 11. ¿Cuántas llamadas inbound y outbound se realizaron?"
   ]
  },
  {
   "cell_type": "code",
   "execution_count": null,
   "metadata": {},
   "outputs": [],
   "source": [
    "## código llamadas"
   ]
  },
  {
   "cell_type": "markdown",
   "metadata": {},
   "source": [
    "Respuesta:"
   ]
  },
  {
   "cell_type": "markdown",
   "metadata": {},
   "source": [
    "### 12. Filtra el DataFrame para mostrar solo las llamadas que fueron resueltas y tuvieron una satisfacción del cliente de 4 o más."
   ]
  },
  {
   "cell_type": "code",
   "execution_count": null,
   "metadata": {},
   "outputs": [],
   "source": [
    "## código filtro"
   ]
  },
  {
   "cell_type": "markdown",
   "metadata": {},
   "source": [
    "### 13. Crea una nueva columna llamada ‘CostoLlamada’ que calcule el costo basado en la duración de la llamada, considerando una tarifa de $0.50 por minuto"
   ]
  },
  {
   "cell_type": "code",
   "execution_count": null,
   "metadata": {},
   "outputs": [],
   "source": [
    "## código CostoLlamada"
   ]
  },
  {
   "cell_type": "markdown",
   "metadata": {},
   "source": [
    "### 14. ¿En qué fecha y hora se registró la llamada más larga?"
   ]
  },
  {
   "cell_type": "code",
   "execution_count": null,
   "metadata": {},
   "outputs": [],
   "source": [
    "## código llamada larga"
   ]
  },
  {
   "cell_type": "markdown",
   "metadata": {},
   "source": [
    "### 15. ¿Cuántas llamadas tuvieron una duración mayor a 30 minutos?"
   ]
  },
  {
   "cell_type": "code",
   "execution_count": null,
   "metadata": {},
   "outputs": [],
   "source": [
    "## código duración"
   ]
  },
  {
   "cell_type": "markdown",
   "metadata": {},
   "source": [
    "### 16. ¿Cuál es el agente con la mayor satisfacción promedio del cliente? (opcional)"
   ]
  },
  {
   "cell_type": "code",
   "execution_count": null,
   "metadata": {},
   "outputs": [],
   "source": [
    "## código satisfacción promedio"
   ]
  },
  {
   "cell_type": "markdown",
   "metadata": {},
   "source": [
    "# SQL\n",
    "\n",
    "---\n"
   ]
  },
  {
   "cell_type": "code",
   "execution_count": 8,
   "metadata": {},
   "outputs": [],
   "source": [
    "# Ejecuta esta celda por favor\n",
    "%load_ext sql"
   ]
  },
  {
   "cell_type": "markdown",
   "metadata": {},
   "source": [
    "### 1. ¿ Cuál es la diferencia entre TRUNCATE, DROP y DELETE ?\n"
   ]
  },
  {
   "cell_type": "markdown",
   "metadata": {},
   "source": [
    "Respuesta:\n"
   ]
  },
  {
   "cell_type": "markdown",
   "metadata": {},
   "source": [
    "\n",
    "### 2. ¿Cuáles son las funciones de agregación más comunes?\n"
   ]
  },
  {
   "cell_type": "markdown",
   "metadata": {},
   "source": [
    "Respuesta:\n"
   ]
  },
  {
   "cell_type": "markdown",
   "metadata": {},
   "source": [
    "### 3. ¿Que es un JOIN y qué tipos existen?\n"
   ]
  },
  {
   "cell_type": "markdown",
   "metadata": {},
   "source": [
    "Respuesta:\n"
   ]
  },
  {
   "cell_type": "markdown",
   "metadata": {},
   "source": [
    "## El archivo data/library.db contiene una base de datos en SQLite de una Biblioteca en Macondo, donde encontramos 3 tablas books, loans, y users."
   ]
  },
  {
   "cell_type": "markdown",
   "metadata": {},
   "source": [
    "\n",
    "### Books table - 100 rows\n",
    "* book_id: BIGINT\n",
    "* title: TEXT\n",
    "* author: TEXT\n",
    "* genre: TEXT\n",
    "* published_year: TEXT\n",
    "\n",
    "| book_id |             title              |    author   |  genre  |published_year|\n",
    "| ------- | ------------------------------ | ----------- | ------- | ------------ |\n",
    "|    1    |Professor well cost relate area.|Frank Young  |Sci-Fi   |     1953     |\n",
    "|    2    |Accept who station.             |Jessica Hayes|Fantasy  |     1962     |\n",
    "|    3    |Dog dinner teacher.             |Sean Howard  |Biography|     1958     |\n",
    "\n",
    "\n",
    "### Users table - 100 rows\n",
    "* user_id: BIGINT\n",
    "* name: TEXT\n",
    "* email: TEXT\n",
    "* membership_date: TEXT\n",
    "\n",
    "| user_id |             name          |    email                     |  membership_date |\n",
    "| ------- | ------------------------- | ---------------------------- | ---------------- |\n",
    "|    1    |Lauren Garcia              |marcusthomas@gmail.com        |2023-03-23        |\n",
    "|    2    |Mark Lewis                 |iparker@walsh-schmidt.com     |2016-11-08        |\n",
    "|    3    |Kelsey Dunn                |hmitchell@wilson-jenkins.com  |2017-03-21        |\n",
    "\n",
    "\n",
    "### Loans table - 100 rows\n",
    "* loan_id: BIGINT\n",
    "* user_id: BIGINT\n",
    "* book_id: BIGINT\n",
    "* loan_date: TEXT\n",
    "* return_date: TEXT\n",
    "\n",
    "| loan_id | user_id | book_id |  loan_date | return_date  |\n",
    "| ------- | ------- | ------- | ---------- | ------------ |\n",
    "|     1   |    43   |   44    | 2024-08-17 | 2023-12-13   |\n",
    "|     2   |    47   |    3    | 2022-09-13 | 2024-08-02   |\n",
    "|     3   |    54   |   97    | 2022-06-03 | 2023-07-02   |\n"
   ]
  },
  {
   "cell_type": "markdown",
   "metadata": {},
   "source": [
    "### 4. Escribe una consulta que retorne el numero de libros que existen por genero.\n"
   ]
  },
  {
   "cell_type": "code",
   "execution_count": null,
   "metadata": {
    "vscode": {
     "languageId": "sql"
    }
   },
   "outputs": [],
   "source": [
    "%%sql sqlite:///data/library.db -- no borres esta linea por favor\n",
    "-- libros query"
   ]
  },
  {
   "cell_type": "markdown",
   "metadata": {},
   "source": [
    "### 5. Escribe una consulta que retorne los 5 usuarios más antiguos (membership_date).\n"
   ]
  },
  {
   "cell_type": "code",
   "execution_count": null,
   "metadata": {
    "vscode": {
     "languageId": "sql"
    }
   },
   "outputs": [],
   "source": [
    "%%sql sqlite:///data/library.db -- no borres esta linea por favor\n",
    "-- antiguos query"
   ]
  },
  {
   "cell_type": "markdown",
   "metadata": {},
   "source": [
    "### 6. Crea una nueva tabla llamada users_bckp que sea una copia de la tabla users, con todos los registros.\n"
   ]
  },
  {
   "cell_type": "code",
   "execution_count": null,
   "metadata": {
    "vscode": {
     "languageId": "sql"
    }
   },
   "outputs": [],
   "source": [
    "%%sql sqlite:///data/library.db -- no borres esta linea por favor\n",
    "-- backup query"
   ]
  },
  {
   "cell_type": "markdown",
   "metadata": {},
   "source": [
    "### 7. Actualiza el email para el usuario con id 29.\n",
    "El email debe quedar como \"r.thompson@montechelo.com.co\""
   ]
  },
  {
   "cell_type": "code",
   "execution_count": null,
   "metadata": {
    "vscode": {
     "languageId": "sql"
    }
   },
   "outputs": [],
   "source": [
    "%%sql sqlite:///data/library.db -- no borres esta linea por favor\n",
    "-- actualiza query\n"
   ]
  },
  {
   "cell_type": "markdown",
   "metadata": {},
   "source": [
    "### 8. Escribe una query para obtener el nombre de TODOS los usuarios, junto con el titulo y author del libro que tengan en prestamo.\n",
    "\n",
    "* Limita la salida para comodidad\n",
    "* Ordenar por nombre de usuario descendente, titulo descendente, author ascendente"
   ]
  },
  {
   "cell_type": "code",
   "execution_count": null,
   "metadata": {
    "vscode": {
     "languageId": "sql"
    }
   },
   "outputs": [],
   "source": [
    "%%sql sqlite:///data/library.db -- no borres esta linea por favor\n",
    "-- nombres y titulos query\n"
   ]
  },
  {
   "cell_type": "markdown",
   "metadata": {},
   "source": [
    "### 9. ¿ Considera que los tipos de datos que se muestran son los adecuados para cada tabla ?, de lo contrarío cuales modificaría y ¿por que?."
   ]
  },
  {
   "cell_type": "markdown",
   "metadata": {},
   "source": [
    "Respuesta:"
   ]
  },
  {
   "cell_type": "markdown",
   "metadata": {},
   "source": [
    "### Apache Airflow\n",
    "---\n",
    "Puedes usar taskFlow u Operators"
   ]
  },
  {
   "cell_type": "markdown",
   "metadata": {},
   "source": [
    "\n",
    "### 1. ¿Qué es Apache Airflow y para qué se utiliza en ingeniería de datos?\n"
   ]
  },
  {
   "cell_type": "markdown",
   "metadata": {},
   "source": [
    "Respuesta:"
   ]
  },
  {
   "cell_type": "markdown",
   "metadata": {},
   "source": [
    "\n",
    "### 2. ¿Qué son las conexiones y donde se configuran?\n"
   ]
  },
  {
   "cell_type": "markdown",
   "metadata": {},
   "source": [
    "Respuesta:"
   ]
  },
  {
   "cell_type": "markdown",
   "metadata": {},
   "source": [
    "### 3. Crea un DAG que haga:\n",
    "``` python\n",
    "print(\"Hellow World!\")\n",
    "```\n",
    "El DAG debe quedar programado para ejecutarse todos los días a las 8:00 a.m."
   ]
  },
  {
   "cell_type": "code",
   "execution_count": null,
   "metadata": {},
   "outputs": [],
   "source": [
    "## Hello World! DAG"
   ]
  },
  {
   "cell_type": "markdown",
   "metadata": {},
   "source": [
    "### 4. Crea un DAG que tenga la siguiente estructura:\n",
    "de arriba hacia abajo\n",
    "\n",
    "```text\n",
    "      +---+     \n",
    "      | A |     \n",
    "      +---+     \n",
    "        |       \n",
    "      +---+     \n",
    "      | B |     \n",
    "      +---+     \n",
    "     /     \\    \n",
    "+---+       +---+\n",
    "| C |       | D |\n",
    "+---+       +---+\n",
    "```\n",
    "\n",
    "En cada tarea puedes hacer un \n",
    "```python\n",
    "print('nombre de la tarea')\n",
    "```"
   ]
  },
  {
   "cell_type": "code",
   "execution_count": null,
   "metadata": {},
   "outputs": [],
   "source": [
    "## código parallel tasks"
   ]
  },
  {
   "cell_type": "markdown",
   "metadata": {},
   "source": [
    "### 5. Crea un DAG que consulte una tabla llamada \"ciudades_capitales\" desde una base de datos MySQL y la cargue sin transformar a una base de datos Postgres.\n",
    "Asume que las conexiones y variables necesarias ya se ecnuentran creadas en el ecosistema. "
   ]
  },
  {
   "cell_type": "code",
   "execution_count": null,
   "metadata": {},
   "outputs": [],
   "source": [
    "##  capitales DAG"
   ]
  },
  {
   "cell_type": "markdown",
   "metadata": {},
   "source": [
    "### Apache Spark 🚀\n",
    "---"
   ]
  },
  {
   "cell_type": "markdown",
   "metadata": {},
   "source": [
    "### 1. ¿Cuáles son las principales ventajas de usar Apache Spark para el procesamiento de datos en comparación con el uso de Python (pandas) para big data?\n"
   ]
  },
  {
   "cell_type": "markdown",
   "metadata": {},
   "source": [
    "Respuesta:\n"
   ]
  },
  {
   "cell_type": "markdown",
   "metadata": {},
   "source": [
    "### 2. ¿Cómo Apache Spark gestiona el procesamiento en memoria y cómo es esto ventajoso sobre otras herramientas como Hadoop MapReduce?\n"
   ]
  },
  {
   "cell_type": "markdown",
   "metadata": {},
   "source": [
    "Respuesta:\n"
   ]
  },
  {
   "cell_type": "markdown",
   "metadata": {},
   "source": [
    "### 3. Escribe un código en PySpark para crear un DataFrame a partir de un archivo CSV llamado empleados.csv que contiene las columnas nombre, edad, departamento, y salario. Luego, muestra las primeras 5 filas del DataFrame.\n"
   ]
  },
  {
   "cell_type": "code",
   "execution_count": null,
   "metadata": {},
   "outputs": [],
   "source": [
    "%reset -f\n",
    "## código empleados\n"
   ]
  },
  {
   "cell_type": "markdown",
   "metadata": {},
   "source": [
    "### 4. Usando PySpark, escribe un código para calcular el salario promedio por cada departamento de un DataFrame llamado empleados.\n"
   ]
  },
  {
   "cell_type": "code",
   "execution_count": null,
   "metadata": {},
   "outputs": [],
   "source": [
    "%reset -f\n",
    "## código salario\n"
   ]
  },
  {
   "cell_type": "markdown",
   "metadata": {},
   "source": [
    "### 5. Escribe un código en PySpark para filtrar las filas de un DataFrame empleados donde la edad es mayor a 30 y el salario es mayor a 3000. Luego, ordena los resultados por salario en orden descendente.\n"
   ]
  },
  {
   "cell_type": "code",
   "execution_count": null,
   "metadata": {},
   "outputs": [],
   "source": [
    "%reset -f\n",
    "## código filtro"
   ]
  }
 ],
 "metadata": {
  "kernelspec": {
   "display_name": "venv",
   "language": "python",
   "name": "python3"
  },
  "language_info": {
   "codemirror_mode": {
    "name": "ipython",
    "version": 3
   },
   "file_extension": ".py",
   "mimetype": "text/x-python",
   "name": "python",
   "nbconvert_exporter": "python",
   "pygments_lexer": "ipython3",
   "version": "3.12.5"
  }
 },
 "nbformat": 4,
 "nbformat_minor": 2
}
